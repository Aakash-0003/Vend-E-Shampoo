{
  "nbformat": 4,
  "nbformat_minor": 0,
  "metadata": {
    "colab": {
      "name": "Rivers_analysis.ipynb",
      "provenance": [],
      "authorship_tag": "ABX9TyPxz1C92WwYVNeMXAu/AU5n",
      "include_colab_link": true
    },
    "kernelspec": {
      "name": "python3",
      "display_name": "Python 3"
    },
    "language_info": {
      "name": "python"
    }
  },
  "cells": [
    {
      "cell_type": "markdown",
      "metadata": {
        "id": "view-in-github",
        "colab_type": "text"
      },
      "source": [
        "<a href=\"https://colab.research.google.com/github/anuanmol/Vend-E-Shampoo/blob/gh-pages/Rivers_analysis.ipynb\" target=\"_parent\"><img src=\"https://colab.research.google.com/assets/colab-badge.svg\" alt=\"Open In Colab\"/></a>"
      ]
    },
    {
      "cell_type": "markdown",
      "metadata": {
        "id": "y9QazEygbV1b"
      },
      "source": [
        "<h2><center>River Pollution Analysis for Top 20 Countries</center></h2>"
      ]
    },
    {
      "cell_type": "markdown",
      "metadata": {
        "id": "RnRah9dTbgsj"
      },
      "source": [
        "Let's start by importing the necessary libraries"
      ]
    },
    {
      "cell_type": "code",
      "metadata": {
        "id": "qfXeQGV-U7ZI"
      },
      "source": [
        "import pandas as pd\n",
        "import matplotlib.pyplot as plt\n",
        "import seaborn as sns\n",
        "# import requests\n",
        "# import io\n",
        "# from sklearn.linear_model import LinearRegression"
      ],
      "execution_count": 54,
      "outputs": []
    },
    {
      "cell_type": "markdown",
      "metadata": {
        "id": "Vv5kbaKxbl8f"
      },
      "source": [
        "Let's load out dataset"
      ]
    },
    {
      "cell_type": "code",
      "metadata": {
        "colab": {
          "base_uri": "https://localhost:8080/",
          "height": 198
        },
        "id": "VzVX7PR1V3at",
        "outputId": "92f26947-ebec-4608-b298-c21f19c1c4bf"
      },
      "source": [
        "# url = \"https://github.com/anuanmol/Vend-E-Shampoo/blob/main/DataAnalysis/plastic-top-20-rivers.csv\"\n",
        "# s = requests.get(url).content\n",
        "# df = pd.read_csv(io.StringIO(s.decode('utf-8')))\n",
        "df = pd.read_csv('plastic-top-20-rivers.csv')\n",
        "df.head()"
      ],
      "execution_count": 8,
      "outputs": [
        {
          "output_type": "execute_result",
          "data": {
            "text/html": [
              "<div>\n",
              "<style scoped>\n",
              "    .dataframe tbody tr th:only-of-type {\n",
              "        vertical-align: middle;\n",
              "    }\n",
              "\n",
              "    .dataframe tbody tr th {\n",
              "        vertical-align: top;\n",
              "    }\n",
              "\n",
              "    .dataframe thead th {\n",
              "        text-align: right;\n",
              "    }\n",
              "</style>\n",
              "<table border=\"1\" class=\"dataframe\">\n",
              "  <thead>\n",
              "    <tr style=\"text-align: right;\">\n",
              "      <th></th>\n",
              "      <th>Entity</th>\n",
              "      <th>Code</th>\n",
              "      <th>Year</th>\n",
              "      <th>Plastic mass input from rivers (tonnes)</th>\n",
              "    </tr>\n",
              "  </thead>\n",
              "  <tbody>\n",
              "    <tr>\n",
              "      <th>0</th>\n",
              "      <td>Africa</td>\n",
              "      <td>NaN</td>\n",
              "      <td>2015</td>\n",
              "      <td>109200</td>\n",
              "    </tr>\n",
              "    <tr>\n",
              "      <th>1</th>\n",
              "      <td>Amazon (Brazil, Peru, Colombia, Ecuador)</td>\n",
              "      <td>NaN</td>\n",
              "      <td>2015</td>\n",
              "      <td>38900</td>\n",
              "    </tr>\n",
              "    <tr>\n",
              "      <th>2</th>\n",
              "      <td>Asia</td>\n",
              "      <td>NaN</td>\n",
              "      <td>2015</td>\n",
              "      <td>1210000</td>\n",
              "    </tr>\n",
              "    <tr>\n",
              "      <th>3</th>\n",
              "      <td>Australia-Pacific</td>\n",
              "      <td>NaN</td>\n",
              "      <td>2015</td>\n",
              "      <td>300</td>\n",
              "    </tr>\n",
              "    <tr>\n",
              "      <th>4</th>\n",
              "      <td>Brantas (Indonesia)</td>\n",
              "      <td>NaN</td>\n",
              "      <td>2015</td>\n",
              "      <td>38900</td>\n",
              "    </tr>\n",
              "  </tbody>\n",
              "</table>\n",
              "</div>"
            ],
            "text/plain": [
              "                                     Entity  ... Plastic mass input from rivers (tonnes)\n",
              "0                                    Africa  ...                                  109200\n",
              "1  Amazon (Brazil, Peru, Colombia, Ecuador)  ...                                   38900\n",
              "2                                      Asia  ...                                 1210000\n",
              "3                         Australia-Pacific  ...                                     300\n",
              "4                       Brantas (Indonesia)  ...                                   38900\n",
              "\n",
              "[5 rows x 4 columns]"
            ]
          },
          "metadata": {
            "tags": []
          },
          "execution_count": 8
        }
      ]
    },
    {
      "cell_type": "markdown",
      "metadata": {
        "id": "ycnV4yb3bsYF"
      },
      "source": [
        "Now that we have loaded our dataset, let's see through some of the stats"
      ]
    },
    {
      "cell_type": "code",
      "metadata": {
        "colab": {
          "base_uri": "https://localhost:8080/",
          "height": 288
        },
        "id": "bbDj4SBuZw4T",
        "outputId": "53d062bc-3acd-4fab-8ebc-9c1b5a2bb602"
      },
      "source": [
        "df.describe()"
      ],
      "execution_count": 14,
      "outputs": [
        {
          "output_type": "execute_result",
          "data": {
            "text/html": [
              "<div>\n",
              "<style scoped>\n",
              "    .dataframe tbody tr th:only-of-type {\n",
              "        vertical-align: middle;\n",
              "    }\n",
              "\n",
              "    .dataframe tbody tr th {\n",
              "        vertical-align: top;\n",
              "    }\n",
              "\n",
              "    .dataframe thead th {\n",
              "        text-align: right;\n",
              "    }\n",
              "</style>\n",
              "<table border=\"1\" class=\"dataframe\">\n",
              "  <thead>\n",
              "    <tr style=\"text-align: right;\">\n",
              "      <th></th>\n",
              "      <th>Year</th>\n",
              "      <th>Plastic mass input from rivers (tonnes)</th>\n",
              "    </tr>\n",
              "  </thead>\n",
              "  <tbody>\n",
              "    <tr>\n",
              "      <th>count</th>\n",
              "      <td>27.0</td>\n",
              "      <td>2.700000e+01</td>\n",
              "    </tr>\n",
              "    <tr>\n",
              "      <th>mean</th>\n",
              "      <td>2015.0</td>\n",
              "      <td>1.392185e+05</td>\n",
              "    </tr>\n",
              "    <tr>\n",
              "      <th>std</th>\n",
              "      <td>0.0</td>\n",
              "      <td>3.437195e+05</td>\n",
              "    </tr>\n",
              "    <tr>\n",
              "      <th>min</th>\n",
              "      <td>2015.0</td>\n",
              "      <td>3.000000e+02</td>\n",
              "    </tr>\n",
              "    <tr>\n",
              "      <th>25%</th>\n",
              "      <td>2015.0</td>\n",
              "      <td>1.415000e+04</td>\n",
              "    </tr>\n",
              "    <tr>\n",
              "      <th>50%</th>\n",
              "      <td>2015.0</td>\n",
              "      <td>3.250000e+04</td>\n",
              "    </tr>\n",
              "    <tr>\n",
              "      <th>75%</th>\n",
              "      <td>2015.0</td>\n",
              "      <td>5.410000e+04</td>\n",
              "    </tr>\n",
              "    <tr>\n",
              "      <th>max</th>\n",
              "      <td>2015.0</td>\n",
              "      <td>1.404200e+06</td>\n",
              "    </tr>\n",
              "  </tbody>\n",
              "</table>\n",
              "</div>"
            ],
            "text/plain": [
              "         Year  Plastic mass input from rivers (tonnes)\n",
              "count    27.0                             2.700000e+01\n",
              "mean   2015.0                             1.392185e+05\n",
              "std       0.0                             3.437195e+05\n",
              "min    2015.0                             3.000000e+02\n",
              "25%    2015.0                             1.415000e+04\n",
              "50%    2015.0                             3.250000e+04\n",
              "75%    2015.0                             5.410000e+04\n",
              "max    2015.0                             1.404200e+06"
            ]
          },
          "metadata": {
            "tags": []
          },
          "execution_count": 14
        }
      ]
    },
    {
      "cell_type": "markdown",
      "metadata": {
        "id": "9eBdv5wlb1Pz"
      },
      "source": [
        "Check for the additional information"
      ]
    },
    {
      "cell_type": "code",
      "metadata": {
        "colab": {
          "base_uri": "https://localhost:8080/"
        },
        "id": "koDixDX8V9Do",
        "outputId": "27bd5dd3-b0ab-4f3e-8255-c122b74d99ea"
      },
      "source": [
        "df.info()"
      ],
      "execution_count": 9,
      "outputs": [
        {
          "output_type": "stream",
          "text": [
            "<class 'pandas.core.frame.DataFrame'>\n",
            "RangeIndex: 27 entries, 0 to 26\n",
            "Data columns (total 4 columns):\n",
            " #   Column                                   Non-Null Count  Dtype \n",
            "---  ------                                   --------------  ----- \n",
            " 0   Entity                                   27 non-null     object\n",
            " 1   Code                                     1 non-null      object\n",
            " 2   Year                                     27 non-null     int64 \n",
            " 3   Plastic mass input from rivers (tonnes)  27 non-null     int64 \n",
            "dtypes: int64(2), object(2)\n",
            "memory usage: 992.0+ bytes\n"
          ],
          "name": "stdout"
        }
      ]
    },
    {
      "cell_type": "markdown",
      "metadata": {
        "id": "IKU9B4MTb7wY"
      },
      "source": [
        "We can see from the 'info' that there is only 1(one) not-null value in 'Code' column\n",
        "\n",
        "Let's confirm it with 'isnull()' command"
      ]
    },
    {
      "cell_type": "code",
      "metadata": {
        "colab": {
          "base_uri": "https://localhost:8080/"
        },
        "id": "2zokTtF2ZV0v",
        "outputId": "526ca849-cfd4-4f1c-ab04-cd2334c92885"
      },
      "source": [
        "df.isnull().sum()"
      ],
      "execution_count": 13,
      "outputs": [
        {
          "output_type": "execute_result",
          "data": {
            "text/plain": [
              "Entity                                      0\n",
              "Code                                       26\n",
              "Year                                        0\n",
              "Plastic mass input from rivers (tonnes)     0\n",
              "dtype: int64"
            ]
          },
          "metadata": {
            "tags": []
          },
          "execution_count": 13
        }
      ]
    },
    {
      "cell_type": "code",
      "metadata": {
        "colab": {
          "base_uri": "https://localhost:8080/"
        },
        "id": "0SMEAQKVYjVB",
        "outputId": "242f918b-95ad-41ad-8324-8e2eec02e132"
      },
      "source": [
        "df['Code']"
      ],
      "execution_count": 10,
      "outputs": [
        {
          "output_type": "execute_result",
          "data": {
            "text/plain": [
              "0          NaN\n",
              "1          NaN\n",
              "2          NaN\n",
              "3          NaN\n",
              "4          NaN\n",
              "5          NaN\n",
              "6          NaN\n",
              "7          NaN\n",
              "8          NaN\n",
              "9          NaN\n",
              "10         NaN\n",
              "11         NaN\n",
              "12         NaN\n",
              "13         NaN\n",
              "14         NaN\n",
              "15         NaN\n",
              "16         NaN\n",
              "17         NaN\n",
              "18         NaN\n",
              "19         NaN\n",
              "20         NaN\n",
              "21         NaN\n",
              "22         NaN\n",
              "23    OWID_WRL\n",
              "24         NaN\n",
              "25         NaN\n",
              "26         NaN\n",
              "Name: Code, dtype: object"
            ]
          },
          "metadata": {
            "tags": []
          },
          "execution_count": 10
        }
      ]
    },
    {
      "cell_type": "markdown",
      "metadata": {
        "id": "vcS7pprQbIEa"
      },
      "source": [
        "Here, we can see that the column 'Code' contains only one not-null value, so let's drop this feature from our data since it is of no use"
      ]
    },
    {
      "cell_type": "markdown",
      "metadata": {
        "id": "HKU4RgmVd4Ee"
      },
      "source": [
        "We should also rename the \"Plastic mass input from rivers (tonnes)\" column as \"Plastic\" as it will be much more easy to use. "
      ]
    },
    {
      "cell_type": "code",
      "metadata": {
        "id": "kvD7nweTdrQk"
      },
      "source": [
        "df.rename(columns={\"Entity\":\"Entity\", \"Year\":\"Year\", \"Plastic mass input from rivers (tonnes)\":\"Plastic\"}, inplace=True)"
      ],
      "execution_count": 24,
      "outputs": []
    },
    {
      "cell_type": "code",
      "metadata": {
        "colab": {
          "base_uri": "https://localhost:8080/",
          "height": 860
        },
        "id": "_57vStwJYoMK",
        "outputId": "fe6a24b3-afe2-4a7e-d913-725d5a2e167c"
      },
      "source": [
        "df.drop(['Code'], axis=1)      # dropping the 'Code' column because of large number of null values"
      ],
      "execution_count": 25,
      "outputs": [
        {
          "output_type": "execute_result",
          "data": {
            "text/html": [
              "<div>\n",
              "<style scoped>\n",
              "    .dataframe tbody tr th:only-of-type {\n",
              "        vertical-align: middle;\n",
              "    }\n",
              "\n",
              "    .dataframe tbody tr th {\n",
              "        vertical-align: top;\n",
              "    }\n",
              "\n",
              "    .dataframe thead th {\n",
              "        text-align: right;\n",
              "    }\n",
              "</style>\n",
              "<table border=\"1\" class=\"dataframe\">\n",
              "  <thead>\n",
              "    <tr style=\"text-align: right;\">\n",
              "      <th></th>\n",
              "      <th>Entity</th>\n",
              "      <th>Year</th>\n",
              "      <th>Plastic</th>\n",
              "    </tr>\n",
              "  </thead>\n",
              "  <tbody>\n",
              "    <tr>\n",
              "      <th>0</th>\n",
              "      <td>Africa</td>\n",
              "      <td>2015</td>\n",
              "      <td>109200</td>\n",
              "    </tr>\n",
              "    <tr>\n",
              "      <th>1</th>\n",
              "      <td>Amazon (Brazil, Peru, Colombia, Ecuador)</td>\n",
              "      <td>2015</td>\n",
              "      <td>38900</td>\n",
              "    </tr>\n",
              "    <tr>\n",
              "      <th>2</th>\n",
              "      <td>Asia</td>\n",
              "      <td>2015</td>\n",
              "      <td>1210000</td>\n",
              "    </tr>\n",
              "    <tr>\n",
              "      <th>3</th>\n",
              "      <td>Australia-Pacific</td>\n",
              "      <td>2015</td>\n",
              "      <td>300</td>\n",
              "    </tr>\n",
              "    <tr>\n",
              "      <th>4</th>\n",
              "      <td>Brantas (Indonesia)</td>\n",
              "      <td>2015</td>\n",
              "      <td>38900</td>\n",
              "    </tr>\n",
              "    <tr>\n",
              "      <th>5</th>\n",
              "      <td>Central &amp; North America</td>\n",
              "      <td>2015</td>\n",
              "      <td>13400</td>\n",
              "    </tr>\n",
              "    <tr>\n",
              "      <th>6</th>\n",
              "      <td>Cross (Nigeria, Cameroon)</td>\n",
              "      <td>2015</td>\n",
              "      <td>40300</td>\n",
              "    </tr>\n",
              "    <tr>\n",
              "      <th>7</th>\n",
              "      <td>Dong (China)</td>\n",
              "      <td>2015</td>\n",
              "      <td>19100</td>\n",
              "    </tr>\n",
              "    <tr>\n",
              "      <th>8</th>\n",
              "      <td>Europe</td>\n",
              "      <td>2015</td>\n",
              "      <td>3900</td>\n",
              "    </tr>\n",
              "    <tr>\n",
              "      <th>9</th>\n",
              "      <td>Ganges (India, Bangladesh)</td>\n",
              "      <td>2015</td>\n",
              "      <td>115000</td>\n",
              "    </tr>\n",
              "    <tr>\n",
              "      <th>10</th>\n",
              "      <td>Hanjiang (China)</td>\n",
              "      <td>2015</td>\n",
              "      <td>12900</td>\n",
              "    </tr>\n",
              "    <tr>\n",
              "      <th>11</th>\n",
              "      <td>Huangpu (China)</td>\n",
              "      <td>2015</td>\n",
              "      <td>40800</td>\n",
              "    </tr>\n",
              "    <tr>\n",
              "      <th>12</th>\n",
              "      <td>Imo (Nigeria)</td>\n",
              "      <td>2015</td>\n",
              "      <td>21500</td>\n",
              "    </tr>\n",
              "    <tr>\n",
              "      <th>13</th>\n",
              "      <td>Irrawaddy (Myanmar)</td>\n",
              "      <td>2015</td>\n",
              "      <td>35300</td>\n",
              "    </tr>\n",
              "    <tr>\n",
              "      <th>14</th>\n",
              "      <td>Kwa Ibo (Nigeria)</td>\n",
              "      <td>2015</td>\n",
              "      <td>11900</td>\n",
              "    </tr>\n",
              "    <tr>\n",
              "      <th>15</th>\n",
              "      <td>Magdalena (Colombia)</td>\n",
              "      <td>2015</td>\n",
              "      <td>16700</td>\n",
              "    </tr>\n",
              "    <tr>\n",
              "      <th>16</th>\n",
              "      <td>Mekong (Thailand, Cambodia, Laos, China, Myanm...</td>\n",
              "      <td>2015</td>\n",
              "      <td>22800</td>\n",
              "    </tr>\n",
              "    <tr>\n",
              "      <th>17</th>\n",
              "      <td>Pasig (Philippines)</td>\n",
              "      <td>2015</td>\n",
              "      <td>38800</td>\n",
              "    </tr>\n",
              "    <tr>\n",
              "      <th>18</th>\n",
              "      <td>Progo (Indonesia)</td>\n",
              "      <td>2015</td>\n",
              "      <td>12800</td>\n",
              "    </tr>\n",
              "    <tr>\n",
              "      <th>19</th>\n",
              "      <td>Serayu (Indonesia)</td>\n",
              "      <td>2015</td>\n",
              "      <td>17100</td>\n",
              "    </tr>\n",
              "    <tr>\n",
              "      <th>20</th>\n",
              "      <td>Solo (Indonesia)</td>\n",
              "      <td>2015</td>\n",
              "      <td>32500</td>\n",
              "    </tr>\n",
              "    <tr>\n",
              "      <th>21</th>\n",
              "      <td>South America</td>\n",
              "      <td>2015</td>\n",
              "      <td>67400</td>\n",
              "    </tr>\n",
              "    <tr>\n",
              "      <th>22</th>\n",
              "      <td>Tamsui (Taiwan)</td>\n",
              "      <td>2015</td>\n",
              "      <td>14700</td>\n",
              "    </tr>\n",
              "    <tr>\n",
              "      <th>23</th>\n",
              "      <td>World</td>\n",
              "      <td>2015</td>\n",
              "      <td>1404200</td>\n",
              "    </tr>\n",
              "    <tr>\n",
              "      <th>24</th>\n",
              "      <td>Xi (China)</td>\n",
              "      <td>2015</td>\n",
              "      <td>73900</td>\n",
              "    </tr>\n",
              "    <tr>\n",
              "      <th>25</th>\n",
              "      <td>Yangtze (China)</td>\n",
              "      <td>2015</td>\n",
              "      <td>333000</td>\n",
              "    </tr>\n",
              "    <tr>\n",
              "      <th>26</th>\n",
              "      <td>Zhujiang (China)</td>\n",
              "      <td>2015</td>\n",
              "      <td>13600</td>\n",
              "    </tr>\n",
              "  </tbody>\n",
              "</table>\n",
              "</div>"
            ],
            "text/plain": [
              "                                               Entity  Year  Plastic\n",
              "0                                              Africa  2015   109200\n",
              "1            Amazon (Brazil, Peru, Colombia, Ecuador)  2015    38900\n",
              "2                                                Asia  2015  1210000\n",
              "3                                   Australia-Pacific  2015      300\n",
              "4                                 Brantas (Indonesia)  2015    38900\n",
              "5                             Central & North America  2015    13400\n",
              "6                           Cross (Nigeria, Cameroon)  2015    40300\n",
              "7                                        Dong (China)  2015    19100\n",
              "8                                              Europe  2015     3900\n",
              "9                          Ganges (India, Bangladesh)  2015   115000\n",
              "10                                   Hanjiang (China)  2015    12900\n",
              "11                                    Huangpu (China)  2015    40800\n",
              "12                                      Imo (Nigeria)  2015    21500\n",
              "13                                Irrawaddy (Myanmar)  2015    35300\n",
              "14                                  Kwa Ibo (Nigeria)  2015    11900\n",
              "15                               Magdalena (Colombia)  2015    16700\n",
              "16  Mekong (Thailand, Cambodia, Laos, China, Myanm...  2015    22800\n",
              "17                                Pasig (Philippines)  2015    38800\n",
              "18                                  Progo (Indonesia)  2015    12800\n",
              "19                                 Serayu (Indonesia)  2015    17100\n",
              "20                                   Solo (Indonesia)  2015    32500\n",
              "21                                      South America  2015    67400\n",
              "22                                    Tamsui (Taiwan)  2015    14700\n",
              "23                                              World  2015  1404200\n",
              "24                                         Xi (China)  2015    73900\n",
              "25                                    Yangtze (China)  2015   333000\n",
              "26                                   Zhujiang (China)  2015    13600"
            ]
          },
          "metadata": {
            "tags": []
          },
          "execution_count": 25
        }
      ]
    },
    {
      "cell_type": "markdown",
      "metadata": {
        "id": "55nrBcgBcPnS"
      },
      "source": [
        "Now that we have eliminated NULL values from our data, let's do some descriptive analysis(min value, max_value) etc. "
      ]
    },
    {
      "cell_type": "code",
      "metadata": {
        "colab": {
          "base_uri": "https://localhost:8080/"
        },
        "id": "8RlGFvbtZR5i",
        "outputId": "7bd3b74a-b3f1-414f-ffa6-e32dbe4b5be8"
      },
      "source": [
        "mx = df['Plastic'].max()              # finding the max value in plastic pollution  \n",
        "rw1 = df[df['Plastic'] == mx]         # printing the whole row for max value\n",
        "print(\"Max row\")\n",
        "print(rw1)\n",
        "\n",
        "mn = df['Plastic'].min()              # finding the min value in plastic pollution \n",
        "rw2 = df[df['Plastic'] == mn]         # printing the whole row for min value\n",
        "print(\"Min row\")\n",
        "print(rw2)"
      ],
      "execution_count": 29,
      "outputs": [
        {
          "output_type": "stream",
          "text": [
            "Max row\n",
            "   Entity      Code  Year  Plastic\n",
            "23  World  OWID_WRL  2015  1404200\n",
            "Min row\n",
            "              Entity Code  Year  Plastic\n",
            "3  Australia-Pacific  NaN  2015      300\n"
          ],
          "name": "stdout"
        }
      ]
    },
    {
      "cell_type": "code",
      "metadata": {
        "colab": {
          "base_uri": "https://localhost:8080/",
          "height": 649
        },
        "id": "6W94g7VyaEhB",
        "outputId": "9af998eb-94d3-4a05-ce8b-662ba92c1fc9"
      },
      "source": [
        "top = df[['Entity','Plastic']].sort_values(by='Plastic', ascending = False)\n",
        "top20 = top[:20]\n",
        "top20"
      ],
      "execution_count": 34,
      "outputs": [
        {
          "output_type": "execute_result",
          "data": {
            "text/html": [
              "<div>\n",
              "<style scoped>\n",
              "    .dataframe tbody tr th:only-of-type {\n",
              "        vertical-align: middle;\n",
              "    }\n",
              "\n",
              "    .dataframe tbody tr th {\n",
              "        vertical-align: top;\n",
              "    }\n",
              "\n",
              "    .dataframe thead th {\n",
              "        text-align: right;\n",
              "    }\n",
              "</style>\n",
              "<table border=\"1\" class=\"dataframe\">\n",
              "  <thead>\n",
              "    <tr style=\"text-align: right;\">\n",
              "      <th></th>\n",
              "      <th>Entity</th>\n",
              "      <th>Plastic</th>\n",
              "    </tr>\n",
              "  </thead>\n",
              "  <tbody>\n",
              "    <tr>\n",
              "      <th>23</th>\n",
              "      <td>World</td>\n",
              "      <td>1404200</td>\n",
              "    </tr>\n",
              "    <tr>\n",
              "      <th>2</th>\n",
              "      <td>Asia</td>\n",
              "      <td>1210000</td>\n",
              "    </tr>\n",
              "    <tr>\n",
              "      <th>25</th>\n",
              "      <td>Yangtze (China)</td>\n",
              "      <td>333000</td>\n",
              "    </tr>\n",
              "    <tr>\n",
              "      <th>9</th>\n",
              "      <td>Ganges (India, Bangladesh)</td>\n",
              "      <td>115000</td>\n",
              "    </tr>\n",
              "    <tr>\n",
              "      <th>0</th>\n",
              "      <td>Africa</td>\n",
              "      <td>109200</td>\n",
              "    </tr>\n",
              "    <tr>\n",
              "      <th>24</th>\n",
              "      <td>Xi (China)</td>\n",
              "      <td>73900</td>\n",
              "    </tr>\n",
              "    <tr>\n",
              "      <th>21</th>\n",
              "      <td>South America</td>\n",
              "      <td>67400</td>\n",
              "    </tr>\n",
              "    <tr>\n",
              "      <th>11</th>\n",
              "      <td>Huangpu (China)</td>\n",
              "      <td>40800</td>\n",
              "    </tr>\n",
              "    <tr>\n",
              "      <th>6</th>\n",
              "      <td>Cross (Nigeria, Cameroon)</td>\n",
              "      <td>40300</td>\n",
              "    </tr>\n",
              "    <tr>\n",
              "      <th>1</th>\n",
              "      <td>Amazon (Brazil, Peru, Colombia, Ecuador)</td>\n",
              "      <td>38900</td>\n",
              "    </tr>\n",
              "    <tr>\n",
              "      <th>4</th>\n",
              "      <td>Brantas (Indonesia)</td>\n",
              "      <td>38900</td>\n",
              "    </tr>\n",
              "    <tr>\n",
              "      <th>17</th>\n",
              "      <td>Pasig (Philippines)</td>\n",
              "      <td>38800</td>\n",
              "    </tr>\n",
              "    <tr>\n",
              "      <th>13</th>\n",
              "      <td>Irrawaddy (Myanmar)</td>\n",
              "      <td>35300</td>\n",
              "    </tr>\n",
              "    <tr>\n",
              "      <th>20</th>\n",
              "      <td>Solo (Indonesia)</td>\n",
              "      <td>32500</td>\n",
              "    </tr>\n",
              "    <tr>\n",
              "      <th>16</th>\n",
              "      <td>Mekong (Thailand, Cambodia, Laos, China, Myanm...</td>\n",
              "      <td>22800</td>\n",
              "    </tr>\n",
              "    <tr>\n",
              "      <th>12</th>\n",
              "      <td>Imo (Nigeria)</td>\n",
              "      <td>21500</td>\n",
              "    </tr>\n",
              "    <tr>\n",
              "      <th>7</th>\n",
              "      <td>Dong (China)</td>\n",
              "      <td>19100</td>\n",
              "    </tr>\n",
              "    <tr>\n",
              "      <th>19</th>\n",
              "      <td>Serayu (Indonesia)</td>\n",
              "      <td>17100</td>\n",
              "    </tr>\n",
              "    <tr>\n",
              "      <th>15</th>\n",
              "      <td>Magdalena (Colombia)</td>\n",
              "      <td>16700</td>\n",
              "    </tr>\n",
              "    <tr>\n",
              "      <th>22</th>\n",
              "      <td>Tamsui (Taiwan)</td>\n",
              "      <td>14700</td>\n",
              "    </tr>\n",
              "  </tbody>\n",
              "</table>\n",
              "</div>"
            ],
            "text/plain": [
              "                                               Entity  Plastic\n",
              "23                                              World  1404200\n",
              "2                                                Asia  1210000\n",
              "25                                    Yangtze (China)   333000\n",
              "9                          Ganges (India, Bangladesh)   115000\n",
              "0                                              Africa   109200\n",
              "24                                         Xi (China)    73900\n",
              "21                                      South America    67400\n",
              "11                                    Huangpu (China)    40800\n",
              "6                           Cross (Nigeria, Cameroon)    40300\n",
              "1            Amazon (Brazil, Peru, Colombia, Ecuador)    38900\n",
              "4                                 Brantas (Indonesia)    38900\n",
              "17                                Pasig (Philippines)    38800\n",
              "13                                Irrawaddy (Myanmar)    35300\n",
              "20                                   Solo (Indonesia)    32500\n",
              "16  Mekong (Thailand, Cambodia, Laos, China, Myanm...    22800\n",
              "12                                      Imo (Nigeria)    21500\n",
              "7                                        Dong (China)    19100\n",
              "19                                 Serayu (Indonesia)    17100\n",
              "15                               Magdalena (Colombia)    16700\n",
              "22                                    Tamsui (Taiwan)    14700"
            ]
          },
          "metadata": {
            "tags": []
          },
          "execution_count": 34
        }
      ]
    },
    {
      "cell_type": "code",
      "metadata": {
        "colab": {
          "base_uri": "https://localhost:8080/",
          "height": 228
        },
        "id": "r8BuCitygeK2",
        "outputId": "cb2d58d2-3c3d-49cf-e222-d27f51a01268"
      },
      "source": [
        "top20.reset_index(inplace=True)\n",
        "top20.drop('index', axis=1)\n",
        "top20.set_index('Entity', inplace=True)\n",
        "top20.head()"
      ],
      "execution_count": 37,
      "outputs": [
        {
          "output_type": "execute_result",
          "data": {
            "text/html": [
              "<div>\n",
              "<style scoped>\n",
              "    .dataframe tbody tr th:only-of-type {\n",
              "        vertical-align: middle;\n",
              "    }\n",
              "\n",
              "    .dataframe tbody tr th {\n",
              "        vertical-align: top;\n",
              "    }\n",
              "\n",
              "    .dataframe thead th {\n",
              "        text-align: right;\n",
              "    }\n",
              "</style>\n",
              "<table border=\"1\" class=\"dataframe\">\n",
              "  <thead>\n",
              "    <tr style=\"text-align: right;\">\n",
              "      <th></th>\n",
              "      <th>index</th>\n",
              "      <th>Plastic</th>\n",
              "    </tr>\n",
              "    <tr>\n",
              "      <th>Entity</th>\n",
              "      <th></th>\n",
              "      <th></th>\n",
              "    </tr>\n",
              "  </thead>\n",
              "  <tbody>\n",
              "    <tr>\n",
              "      <th>World</th>\n",
              "      <td>23</td>\n",
              "      <td>1404200</td>\n",
              "    </tr>\n",
              "    <tr>\n",
              "      <th>Asia</th>\n",
              "      <td>2</td>\n",
              "      <td>1210000</td>\n",
              "    </tr>\n",
              "    <tr>\n",
              "      <th>Yangtze (China)</th>\n",
              "      <td>25</td>\n",
              "      <td>333000</td>\n",
              "    </tr>\n",
              "    <tr>\n",
              "      <th>Ganges (India, Bangladesh)</th>\n",
              "      <td>9</td>\n",
              "      <td>115000</td>\n",
              "    </tr>\n",
              "    <tr>\n",
              "      <th>Africa</th>\n",
              "      <td>0</td>\n",
              "      <td>109200</td>\n",
              "    </tr>\n",
              "  </tbody>\n",
              "</table>\n",
              "</div>"
            ],
            "text/plain": [
              "                            index  Plastic\n",
              "Entity                                    \n",
              "World                          23  1404200\n",
              "Asia                            2  1210000\n",
              "Yangtze (China)                25   333000\n",
              "Ganges (India, Bangladesh)      9   115000\n",
              "Africa                          0   109200"
            ]
          },
          "metadata": {
            "tags": []
          },
          "execution_count": 37
        }
      ]
    },
    {
      "cell_type": "code",
      "metadata": {
        "colab": {
          "base_uri": "https://localhost:8080/",
          "height": 397
        },
        "id": "LVnhrd6rmVhz",
        "outputId": "f1f05406-6646-47e4-867d-d8f68253fd27"
      },
      "source": [
        "plt.style.use('fivethirtyeight')\n",
        "top20['Plastic'].plot(kind='barh', figsize=(12,6))\n",
        "plt.ylabel('Country')\n",
        "plt.xlabel('Tonnes')\n",
        "plt.title('Plastic pollution per country river')\n",
        "plt.show()"
      ],
      "execution_count": 50,
      "outputs": [
        {
          "output_type": "display_data",
          "data": {
            "image/png": "[encoded data removed]",
            "text/plain": [
              "<Figure size 864x432 with 1 Axes>"
            ]
          },
          "metadata": {
            "tags": []
          }
        }
      ]
    },
    {
      "cell_type": "markdown",
      "metadata": {
        "id": "MiiO_Fc4wqeS"
      },
      "source": [
        "From this bar graph above, it is clear that the annual plastic waste poured in our rivers world-wide is more than **1 million metric tonnes** which is a disaster. This data is also of year 2015. Now it's 2021, you yourself can estimate the points where they will end up.\n"
      ]
    },
    {
      "cell_type": "code",
      "metadata": {
        "id": "uxrLTbEJt7Jp"
      },
      "source": [
        "# topp = top[['Entity']]\n",
        "# ar = [topp[['Entity']][2:12]]\n",
        "# ar\n",
        "# topp.reset_index()\n",
        "# topp.drop('index', axis = 1)\n",
        "# topp.head()"
      ],
      "execution_count": 49,
      "outputs": []
    },
    {
      "cell_type": "code",
      "metadata": {
        "colab": {
          "base_uri": "https://localhost:8080/",
          "height": 441
        },
        "id": "SPdr_q-AnpVM",
        "outputId": "f56a67fa-7662-422d-bc1b-48171f1ecef5"
      },
      "source": [
        "# top 10 countries except world and asia\n",
        "top10 = top[2:12]\n",
        "plt.style.use('fivethirtyeight')\n",
        "top10.reset_index(inplace=True)\n",
        "top10.drop('index', axis=1)\n",
        "top10.set_index('Entity', inplace=True)\n",
        "\n",
        "top10['Plastic'].plot(kind='barh', figsize=(12, 6))\n",
        "plt.xlabel('Tonnes')\n",
        "plt.ylabel('Countries')\n",
        "plt.title('Top 10 Country wise river pollution')\n",
        "plt.show()"
      ],
      "execution_count": 52,
      "outputs": [
        {
          "output_type": "display_data",
          "data": {
            "image/png": "[encoded data removed]",
            "text/plain": [
              "<Figure size 864x432 with 1 Axes>"
            ]
          },
          "metadata": {
            "tags": []
          }
        }
      ]
    },
    {
      "cell_type": "markdown",
      "metadata": {
        "id": "slb3w_AYxaiM"
      },
      "source": [
        "Here, we can see China's Yangtze tops the list with more than **300,000 metric tonnes** of plastic waste being poured on annual basis.\n",
        "\n",
        "India's Ganges is also a point of concern with more than **100,000 metric tonnes** of plastic in it."
      ]
    }
  ]
}